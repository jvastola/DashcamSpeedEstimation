{
  "nbformat": 4,
  "nbformat_minor": 0,
  "metadata": {
    "colab": {
      "name": "speedchallenge.ipynb",
      "provenance": []
    },
    "kernelspec": {
      "name": "python3",
      "display_name": "Python 3"
    }
  },
  "cells": [
    {
      "cell_type": "markdown",
      "metadata": {
        "id": "BL-Har4CQmGD",
        "colab_type": "text"
      },
      "source": [
        "#Interpreting Data"
      ]
    },
    {
      "cell_type": "code",
      "metadata": {
        "id": "cFujxxbeQTl5",
        "colab_type": "code",
        "colab": {}
      },
      "source": [
        "\n",
        "import cv2 \n",
        "import numpy as np"
      ],
      "execution_count": 1,
      "outputs": []
    },
    {
      "cell_type": "code",
      "metadata": {
        "id": "Oa6GbdwrRqq7",
        "colab_type": "code",
        "colab": {}
      },
      "source": [
        "\n",
        "# to get the frames from the video\n",
        "def get_frames(filename):\n",
        "    vidcap = cv2.VideoCapture(filename)\n",
        "    success,image = vidcap.read()\n",
        "    data = []\n",
        "    count = 0\n",
        "    while success:\n",
        "      success,image = vidcap.read()\n",
        "      if success:\n",
        "        data.append(image)\n",
        "        print('Read a new frame: ', success)\n",
        "        count += 1\n",
        "    return data\n",
        "\n",
        "# to get the speed from the text file\n",
        "def get_speed_data(filename):\n",
        "    speed=[]\n",
        "    with open(filename) as f:\n",
        "        for line in f:\n",
        "            val = line.rstrip('\\n')\n",
        "            val = float(val)\n",
        "            speed.append(val)\n",
        "    return speed"
      ],
      "execution_count": 13,
      "outputs": []
    },
    {
      "cell_type": "code",
      "metadata": {
        "id": "isj1j4G9R2MO",
        "colab_type": "code",
        "colab": {}
      },
      "source": [
        "# speed_data and images_data are lists that have the speed(target variable) and frames from video\n",
        "# please change the path if the train.mp4 and train.txt are in different folder\n",
        "training_data_txt = \"train.txt\"\n",
        "training_data_video = \"train.mp4\"\n",
        "\n",
        "speed_data = get_speed_data(training_data_txt)\n",
        "images_data= get_frames(training_data_video)\n"
      ],
      "execution_count": 17,
      "outputs": []
    }
  ]
}